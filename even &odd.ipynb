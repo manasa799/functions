{
 "cells": [
  {
   "cell_type": "code",
   "execution_count": null,
   "id": "9512e029-1e9d-4045-9c52-b73c0ff422ac",
   "metadata": {},
   "outputs": [],
   "source": [
    "'''write a function to count the  list of even and odd numbers......\n",
    "CONSTRAINT : GIVE THE INPUT AS USER DEFINED'''\n",
    "def eo(numbers):\n",
    "    e= 0\n",
    "    o=0\n",
    "    for n in numbers :\n",
    "        if n%2 ==0:\n",
    "            e+=1\n",
    "        else:\n",
    "            o+=1\n",
    "    return e,o\n",
    "num = input(\"enter the number as space seperated :\")\n",
    "num_list = list(map(int,num.split()))\n",
    "e,o= eo(num_list)\n",
    "print(\"even count:\",e)\n",
    "print(\"odd count:\",o)"
   ]
  }
 ],
 "metadata": {
  "kernelspec": {
   "display_name": "Python 3 (ipykernel)",
   "language": "python",
   "name": "python3"
  },
  "language_info": {
   "codemirror_mode": {
    "name": "ipython",
    "version": 3
   },
   "file_extension": ".py",
   "mimetype": "text/x-python",
   "name": "python",
   "nbconvert_exporter": "python",
   "pygments_lexer": "ipython3",
   "version": "3.12.7"
  }
 },
 "nbformat": 4,
 "nbformat_minor": 5
}
