{
 "cells": [
  {
   "cell_type": "code",
   "execution_count": null,
   "id": "8156b7fb-869c-46b3-9874-e82b1f31d88f",
   "metadata": {},
   "outputs": [],
   "source": [
    "def max_min (a,b,c):\n",
    "    return max(a,b,c),min(a,b,c)\n",
    "a=int(input(\"enter a :\"))\n",
    "b=int(input(\"enter b :\"))\n",
    "c=int(input(\"enter c :\"))\n",
    "maxi, mini =max_min(a,b,c)\n",
    "print(\"maximum:\",maxi)\n",
    "print(\"minimum:\",mini)"
   ]
  }
 ],
 "metadata": {
  "kernelspec": {
   "display_name": "Python 3 (ipykernel)",
   "language": "python",
   "name": "python3"
  },
  "language_info": {
   "codemirror_mode": {
    "name": "ipython",
    "version": 3
   },
   "file_extension": ".py",
   "mimetype": "text/x-python",
   "name": "python",
   "nbconvert_exporter": "python",
   "pygments_lexer": "ipython3",
   "version": "3.12.7"
  }
 },
 "nbformat": 4,
 "nbformat_minor": 5
}
