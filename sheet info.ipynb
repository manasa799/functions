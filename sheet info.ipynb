{
 "cells": [
  {
   "cell_type": "code",
   "execution_count": null,
   "id": "ef747f6e-15e7-4296-b69f-8daa6fc02427",
   "metadata": {},
   "outputs": [],
   "source": [
    "def info(name='unknown',age =0):\n",
    "    print(\"name:\",name)\n",
    "    print(\"age:\",age)\n",
    "info(\"manuu\",20)\n",
    "info(\"marks\")\n",
    "info(age = 10)\n",
    "info()"
   ]
  }
 ],
 "metadata": {
  "kernelspec": {
   "display_name": "Python 3 (ipykernel)",
   "language": "python",
   "name": "python3"
  },
  "language_info": {
   "codemirror_mode": {
    "name": "ipython",
    "version": 3
   },
   "file_extension": ".py",
   "mimetype": "text/x-python",
   "name": "python",
   "nbconvert_exporter": "python",
   "pygments_lexer": "ipython3",
   "version": "3.12.7"
  }
 },
 "nbformat": 4,
 "nbformat_minor": 5
}
