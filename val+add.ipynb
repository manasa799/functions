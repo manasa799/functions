{
 "cells": [
  {
   "cell_type": "code",
   "execution_count": null,
   "id": "76d5d477-2199-4ac9-9a7c-17c5ec47da1e",
   "metadata": {},
   "outputs": [],
   "source": [
    "a= 100\n",
    "def value(a):\n",
    "    return a+290\n",
    "op= value(a)\n",
    "print(op)"
   ]
  }
 ],
 "metadata": {
  "kernelspec": {
   "display_name": "Python 3 (ipykernel)",
   "language": "python",
   "name": "python3"
  },
  "language_info": {
   "codemirror_mode": {
    "name": "ipython",
    "version": 3
   },
   "file_extension": ".py",
   "mimetype": "text/x-python",
   "name": "python",
   "nbconvert_exporter": "python",
   "pygments_lexer": "ipython3",
   "version": "3.12.7"
  }
 },
 "nbformat": 4,
 "nbformat_minor": 5
}
