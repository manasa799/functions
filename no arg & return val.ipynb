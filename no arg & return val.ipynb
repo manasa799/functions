{
 "cells": [
  {
   "cell_type": "code",
   "execution_count": null,
   "id": "b5b07bba-292e-4bfd-946b-4d7f951c6f7c",
   "metadata": {},
   "outputs": [],
   "source": [
    "def value ():\n",
    "    return 3.134\n",
    "result= value()\n",
    "print(\"value in the function is\",result)"
   ]
  }
 ],
 "metadata": {
  "kernelspec": {
   "display_name": "Python 3 (ipykernel)",
   "language": "python",
   "name": "python3"
  },
  "language_info": {
   "codemirror_mode": {
    "name": "ipython",
    "version": 3
   },
   "file_extension": ".py",
   "mimetype": "text/x-python",
   "name": "python",
   "nbconvert_exporter": "python",
   "pygments_lexer": "ipython3",
   "version": "3.12.7"
  }
 },
 "nbformat": 4,
 "nbformat_minor": 5
}
