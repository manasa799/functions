{
 "cells": [
  {
   "cell_type": "code",
   "execution_count": null,
   "id": "9c52d847-0e55-47f7-be05-aec91c1db38e",
   "metadata": {},
   "outputs": [],
   "source": [
    "def hi():\n",
    "    print(\"gdhvvbsy\")\n",
    "    print(\"123344\"*6)\n",
    "hi()"
   ]
  },
  {
   "cell_type": "code",
   "execution_count": null,
   "id": "5545e927-dadf-4106-8ac6-175e8dfacbb5",
   "metadata": {},
   "outputs": [],
   "source": [
    "def add(a,b):\n",
    "    return a+b\n",
    "std1 = int(input(\"enter the money:\"))\n",
    "std2 = int(input(\"enter the money:\"))\n",
    "total= add(std1,std2)\n",
    "print(\"total amount:\",total)"
   ]
  },
  {
   "cell_type": "code",
   "execution_count": null,
   "id": "67caee62-c4c9-4481-a64f-7d276f1d377a",
   "metadata": {},
   "outputs": [],
   "source": [
    "#function with parameters /return value \n",
    "def add(student1,student2):\n",
    "    print(\"total:\", student1+student2)\n",
    "student1= int(input(\"enter the money:\"))\n",
    "student2= int(input(\"enter the money:\"))\n",
    "add (student1,student2)"
   ]
  }
 ],
 "metadata": {
  "kernelspec": {
   "display_name": "Python 3 (ipykernel)",
   "language": "python",
   "name": "python3"
  },
  "language_info": {
   "codemirror_mode": {
    "name": "ipython",
    "version": 3
   },
   "file_extension": ".py",
   "mimetype": "text/x-python",
   "name": "python",
   "nbconvert_exporter": "python",
   "pygments_lexer": "ipython3",
   "version": "3.12.7"
  }
 },
 "nbformat": 4,
 "nbformat_minor": 5
}
